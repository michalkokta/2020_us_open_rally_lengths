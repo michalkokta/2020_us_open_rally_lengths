{
 "cells": [
  {
   "cell_type": "code",
   "execution_count": 2,
   "metadata": {},
   "outputs": [],
   "source": [
    "import pandas as pd\n",
    "import numpy as np\n",
    "from matplotlib import pyplot as plt\n",
    "from scipy import stats\n",
    "import seaborn as sns\n",
    "\n",
    "data = pd.read_csv('https://raw.githubusercontent.com/JeffSackmann/tennis_slam_pointbypoint/master/2020-usopen-points.csv')"
   ]
  },
  {
   "cell_type": "code",
   "execution_count": 3,
   "metadata": {},
   "outputs": [],
   "source": [
    "#print(len(data))\n",
    "\n",
    "men = data.head(27395)\n",
    "\n",
    "women = data.tail(17762)"
   ]
  },
  {
   "cell_type": "code",
   "execution_count": 4,
   "metadata": {},
   "outputs": [],
   "source": [
    "first_serve = men[men.ServeNumber == 1]\n",
    "second_serve = men[men.ServeNumber == 2]\n",
    "\n",
    "#print(len(first_serve))\n",
    "#print(len(second_serve))"
   ]
  },
  {
   "cell_type": "code",
   "execution_count": 11,
   "metadata": {},
   "outputs": [],
   "source": [
    "first_serve_mode = stats.mode(first_serve.RallyCount)\n",
    "#print(first_serve_mode)\n",
    "first_serve_25th = np.percentile(first_serve.RallyCount, 25)\n",
    "#print(first_serve_25th)\n",
    "first_serve_median = np.percentile(first_serve.RallyCount, 50)\n",
    "#print(first_serve_median)\n",
    "first_serve_75th = np.percentile(first_serve.RallyCount, 75)\n",
    "#print(first_serve_75th)\n",
    "\n",
    "#print(len(first_serve[first_serve.RallyCount <= 4]) / len(first_serve))\n",
    "#print(len(first_serve[(first_serve.RallyCount == 5) | (first_serve.RallyCount == 6) | (first_serve.RallyCount == 7) | (first_serve.RallyCount == 8)]) / len(first_serve))\n",
    "#print(len(first_serve[first_serve.RallyCount >= 9]) / len(first_serve))"
   ]
  },
  {
   "cell_type": "code",
   "execution_count": 12,
   "metadata": {},
   "outputs": [],
   "source": [
    "second_serve_mode = stats.mode(second_serve.RallyCount)\n",
    "#print(second_serve_mode)\n",
    "second_serve_25th = np.percentile(second_serve.RallyCount, 25)\n",
    "#print(second_serve_25th)\n",
    "second_serve_median = np.percentile(second_serve.RallyCount, 50)\n",
    "#print(second_serve_median)\n",
    "second_serve_75th = np.percentile(second_serve.RallyCount, 75)\n",
    "#print(second_serve_75th)\n",
    "\n",
    "#print(len(second_serve[second_serve.RallyCount <= 4]) / len(second_serve))\n",
    "#print(len(second_serve[(second_serve.RallyCount == 5) | (second_serve.RallyCount == 6) | (second_serve.RallyCount == 7) | (second_serve.RallyCount == 8)]) / len(second_serve))\n",
    "#print(len(second_serve[second_serve.RallyCount >= 9]) / len(second_serve))"
   ]
  },
  {
   "cell_type": "code",
   "execution_count": 7,
   "metadata": {},
   "outputs": [
    {
     "data": {
      "image/png": "[encoded data removed]",
      "text/plain": [
       "<Figure size 360x360 with 1 Axes>"
      ]
     },
     "metadata": {
      "needs_background": "light"
     },
     "output_type": "display_data"
    }
   ],
   "source": [
    "ax = sns.displot(first_serve, x = 'RallyCount', bins = np.arange(1,12) - 0.5, color = 'red')\n",
    "ax.set(xlabel = \"Rally Length\", ylabel = \"Number of Rallies\")\n",
    "ax.set(xticks = range(1,11))\n",
    "plt.savefig('first_serve.png')"
   ]
  },
  {
   "cell_type": "code",
   "execution_count": 8,
   "metadata": {
    "scrolled": false
   },
   "outputs": [
    {
     "data": {
      "image/png": "[encoded data removed]",
      "text/plain": [
       "<Figure size 360x360 with 1 Axes>"
      ]
     },
     "metadata": {
      "needs_background": "light"
     },
     "output_type": "display_data"
    }
   ],
   "source": [
    "ax = sns.displot(second_serve, x = 'RallyCount', bins = np.arange(1,12) - 0.5, color = 'blue')\n",
    "ax.set(xlabel = \"Rally Length\", ylabel = \"Number of Rallies\")\n",
    "ax.set(xticks = range(1,11))\n",
    "plt.savefig('second_serve.png')"
   ]
  },
  {
   "cell_type": "code",
   "execution_count": 9,
   "metadata": {},
   "outputs": [
    {
     "name": "stdout",
     "output_type": "stream",
     "text": [
      "0.1667362643918153\n",
      "0.06860347193223171\n",
      "0.018373799439241185\n",
      "0.009723796456481536\n"
     ]
    }
   ],
   "source": [
    "print(len(first_serve[first_serve.RallyCount == 2]) / len(first_serve))\n",
    "print(len(first_serve[first_serve.RallyCount == 4]) / len(first_serve))\n",
    "print(len(first_serve[first_serve.RallyCount == 6]) / len(first_serve))\n",
    "print(len(first_serve[first_serve.RallyCount == 8]) / len(first_serve))"
   ]
  },
  {
   "cell_type": "code",
   "execution_count": 10,
   "metadata": {},
   "outputs": [
    {
     "name": "stdout",
     "output_type": "stream",
     "text": [
      "0.266803102111159\n",
      "0.09618698836708316\n",
      "0.02908229211546747\n",
      "0.016910814304179234\n"
     ]
    }
   ],
   "source": [
    "print(len(second_serve[second_serve.RallyCount == 2]) / len(second_serve))\n",
    "print(len(second_serve[second_serve.RallyCount == 4]) / len(second_serve))\n",
    "print(len(second_serve[second_serve.RallyCount == 6]) / len(second_serve))\n",
    "print(len(second_serve[second_serve.RallyCount == 8]) / len(second_serve))"
   ]
  }
 ],
 "metadata": {
  "kernelspec": {
   "display_name": "Python 3",
   "language": "python",
   "name": "python3"
  },
  "language_info": {
   "codemirror_mode": {
    "name": "ipython",
    "version": 3
   },
   "file_extension": ".py",
   "mimetype": "text/x-python",
   "name": "python",
   "nbconvert_exporter": "python",
   "pygments_lexer": "ipython3",
   "version": "3.7.7"
  }
 },
 "nbformat": 4,
 "nbformat_minor": 4
}
